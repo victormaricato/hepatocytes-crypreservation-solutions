{
 "cells": [
  {
   "cell_type": "code",
   "execution_count": 1,
   "outputs": [],
   "source": [
    "%load_ext autoreload\n",
    "%autoreload 2"
   ],
   "metadata": {
    "collapsed": false
   }
  },
  {
   "cell_type": "code",
   "execution_count": 10,
   "metadata": {
    "collapsed": true
   },
   "outputs": [],
   "source": [
    "import pandas as pd\n",
    "from src.data import Data\n",
    "from src.preprocessing import DataPreprocessor"
   ]
  },
  {
   "cell_type": "code",
   "execution_count": 14,
   "outputs": [],
   "source": [
    "data = Data()\n",
    "data_preprocessor = DataPreprocessor()"
   ],
   "metadata": {
    "collapsed": false
   }
  },
  {
   "cell_type": "code",
   "execution_count": 14,
   "outputs": [],
   "source": [
    "essays = data.load()"
   ],
   "metadata": {
    "collapsed": false
   }
  },
  {
   "cell_type": "code",
   "execution_count": 30,
   "outputs": [
    {
     "data": {
      "text/plain": "     Di-rhamnolipids  SACAROSE  MALTOEXAOSE  RAFFINOSE  GLICOSE  %_SFB  \\\n0                0.0       0.0          0.0        0.0      0.0   10.0   \n1                0.0       0.0          0.0        0.0      0.0   10.0   \n2                0.0       0.0          0.0        0.0      0.0   10.0   \n3                0.0       0.0          0.0        0.0      0.0   10.0   \n4                0.0       0.0          0.0        0.0      0.0   10.0   \n..               ...       ...          ...        ...      ...    ...   \n142              0.0       0.0          0.0        0.0      0.0    0.0   \n143              0.0       0.0          0.0        0.0      0.0    0.0   \n144              0.0       0.0          0.0        0.0      0.0    0.0   \n145              0.0       0.0          0.0        0.0      0.0    0.0   \n146              0.0       0.0          0.0        0.0      0.0    0.0   \n\n     %_QUEDA_DA_VIABILIDADE  %_OUTRO_CRIOPROTETOR  DEXTRAN  \\\n0                     41.05                   0.0      0.0   \n1                     39.14                   0.0      0.0   \n2                     41.68                   0.0      0.0   \n3                     34.86                   0.0      0.0   \n4                     36.63                   0.0      0.0   \n..                      ...                   ...      ...   \n142                   94.60                 100.0      0.0   \n143                   94.60                 100.0      0.0   \n144                   94.60                 100.0      0.0   \n145                   94.60                 100.0      0.0   \n146                   94.60                 100.0      0.0   \n\n     %_APÓS_O_DESCONGELAMENTO  ...  LACTOSE  MALTOTRIOSE  MALTOPENTAOSE  \\\n0                       45.45  ...      0.0          0.0            0.0   \n1                       47.36  ...      0.0          0.0            0.0   \n2                       44.82  ...      0.0          0.0            0.0   \n3                       51.64  ...      0.0          0.0            0.0   \n4                       49.87  ...      0.0          0.0            0.0   \n..                        ...  ...      ...          ...            ...   \n142                      0.00  ...      0.0          0.0            0.0   \n143                      0.00  ...      0.0          0.0            0.0   \n144                      0.00  ...      0.0          0.0            0.0   \n145                      0.00  ...      0.0          0.0            0.0   \n146                      0.00  ...      0.0          0.0            0.0   \n\n     %_MEIO_DE_CULTURA  OUTRO_CRIOPROTETOR  REFERÊNCIA  ESPÉCIE/LINHAGEM  \\\n0                 85.0                None           8        Camundongo   \n1                 85.0                None           8        Camundongo   \n2                 85.0                None           8        Camundongo   \n3                 80.0                None           8        Camundongo   \n4                 80.0                None           8        Camundongo   \n..                 ...                 ...         ...               ...   \n142                0.0            Trealose           8             HepG2   \n143                0.0            Trealose           8             HepG2   \n144                0.0            Trealose           8             HepG2   \n145                0.0            Trealose           8             HepG2   \n146                0.0            Trealose           8             HepG2   \n\n     TIPO_DE_MEIO_DE_CULTURA  TEMPO_DE_AVALIAÇÃO_DA_VIABILIDADE  \\\n0                          7                                  4   \n1                          7                                  4   \n2                          7                                  4   \n3                          7                                  4   \n4                          7                                  4   \n..                       ...                                ...   \n142                        6                                  4   \n143                        6                                  4   \n144                        6                                  4   \n145                        6                                  4   \n146                        6                                  4   \n\n     TESTE_DE_VIABILIDADE  \n0                       2  \n1                       2  \n2                       2  \n3                       2  \n4                       2  \n..                    ...  \n142                     2  \n143                     2  \n144                     2  \n145                     2  \n146                     2  \n\n[295 rows x 29 columns]",
      "text/html": "<div>\n<style scoped>\n    .dataframe tbody tr th:only-of-type {\n        vertical-align: middle;\n    }\n\n    .dataframe tbody tr th {\n        vertical-align: top;\n    }\n\n    .dataframe thead th {\n        text-align: right;\n    }\n</style>\n<table border=\"1\" class=\"dataframe\">\n  <thead>\n    <tr style=\"text-align: right;\">\n      <th></th>\n      <th>Di-rhamnolipids</th>\n      <th>SACAROSE</th>\n      <th>MALTOEXAOSE</th>\n      <th>RAFFINOSE</th>\n      <th>GLICOSE</th>\n      <th>%_SFB</th>\n      <th>%_QUEDA_DA_VIABILIDADE</th>\n      <th>%_OUTRO_CRIOPROTETOR</th>\n      <th>DEXTRAN</th>\n      <th>%_APÓS_O_DESCONGELAMENTO</th>\n      <th>...</th>\n      <th>LACTOSE</th>\n      <th>MALTOTRIOSE</th>\n      <th>MALTOPENTAOSE</th>\n      <th>%_MEIO_DE_CULTURA</th>\n      <th>OUTRO_CRIOPROTETOR</th>\n      <th>REFERÊNCIA</th>\n      <th>ESPÉCIE/LINHAGEM</th>\n      <th>TIPO_DE_MEIO_DE_CULTURA</th>\n      <th>TEMPO_DE_AVALIAÇÃO_DA_VIABILIDADE</th>\n      <th>TESTE_DE_VIABILIDADE</th>\n    </tr>\n  </thead>\n  <tbody>\n    <tr>\n      <th>0</th>\n      <td>0.0</td>\n      <td>0.0</td>\n      <td>0.0</td>\n      <td>0.0</td>\n      <td>0.0</td>\n      <td>10.0</td>\n      <td>41.05</td>\n      <td>0.0</td>\n      <td>0.0</td>\n      <td>45.45</td>\n      <td>...</td>\n      <td>0.0</td>\n      <td>0.0</td>\n      <td>0.0</td>\n      <td>85.0</td>\n      <td>None</td>\n      <td>8</td>\n      <td>Camundongo</td>\n      <td>7</td>\n      <td>4</td>\n      <td>2</td>\n    </tr>\n    <tr>\n      <th>1</th>\n      <td>0.0</td>\n      <td>0.0</td>\n      <td>0.0</td>\n      <td>0.0</td>\n      <td>0.0</td>\n      <td>10.0</td>\n      <td>39.14</td>\n      <td>0.0</td>\n      <td>0.0</td>\n      <td>47.36</td>\n      <td>...</td>\n      <td>0.0</td>\n      <td>0.0</td>\n      <td>0.0</td>\n      <td>85.0</td>\n      <td>None</td>\n      <td>8</td>\n      <td>Camundongo</td>\n      <td>7</td>\n      <td>4</td>\n      <td>2</td>\n    </tr>\n    <tr>\n      <th>2</th>\n      <td>0.0</td>\n      <td>0.0</td>\n      <td>0.0</td>\n      <td>0.0</td>\n      <td>0.0</td>\n      <td>10.0</td>\n      <td>41.68</td>\n      <td>0.0</td>\n      <td>0.0</td>\n      <td>44.82</td>\n      <td>...</td>\n      <td>0.0</td>\n      <td>0.0</td>\n      <td>0.0</td>\n      <td>85.0</td>\n      <td>None</td>\n      <td>8</td>\n      <td>Camundongo</td>\n      <td>7</td>\n      <td>4</td>\n      <td>2</td>\n    </tr>\n    <tr>\n      <th>3</th>\n      <td>0.0</td>\n      <td>0.0</td>\n      <td>0.0</td>\n      <td>0.0</td>\n      <td>0.0</td>\n      <td>10.0</td>\n      <td>34.86</td>\n      <td>0.0</td>\n      <td>0.0</td>\n      <td>51.64</td>\n      <td>...</td>\n      <td>0.0</td>\n      <td>0.0</td>\n      <td>0.0</td>\n      <td>80.0</td>\n      <td>None</td>\n      <td>8</td>\n      <td>Camundongo</td>\n      <td>7</td>\n      <td>4</td>\n      <td>2</td>\n    </tr>\n    <tr>\n      <th>4</th>\n      <td>0.0</td>\n      <td>0.0</td>\n      <td>0.0</td>\n      <td>0.0</td>\n      <td>0.0</td>\n      <td>10.0</td>\n      <td>36.63</td>\n      <td>0.0</td>\n      <td>0.0</td>\n      <td>49.87</td>\n      <td>...</td>\n      <td>0.0</td>\n      <td>0.0</td>\n      <td>0.0</td>\n      <td>80.0</td>\n      <td>None</td>\n      <td>8</td>\n      <td>Camundongo</td>\n      <td>7</td>\n      <td>4</td>\n      <td>2</td>\n    </tr>\n    <tr>\n      <th>...</th>\n      <td>...</td>\n      <td>...</td>\n      <td>...</td>\n      <td>...</td>\n      <td>...</td>\n      <td>...</td>\n      <td>...</td>\n      <td>...</td>\n      <td>...</td>\n      <td>...</td>\n      <td>...</td>\n      <td>...</td>\n      <td>...</td>\n      <td>...</td>\n      <td>...</td>\n      <td>...</td>\n      <td>...</td>\n      <td>...</td>\n      <td>...</td>\n      <td>...</td>\n      <td>...</td>\n    </tr>\n    <tr>\n      <th>142</th>\n      <td>0.0</td>\n      <td>0.0</td>\n      <td>0.0</td>\n      <td>0.0</td>\n      <td>0.0</td>\n      <td>0.0</td>\n      <td>94.60</td>\n      <td>100.0</td>\n      <td>0.0</td>\n      <td>0.00</td>\n      <td>...</td>\n      <td>0.0</td>\n      <td>0.0</td>\n      <td>0.0</td>\n      <td>0.0</td>\n      <td>Trealose</td>\n      <td>8</td>\n      <td>HepG2</td>\n      <td>6</td>\n      <td>4</td>\n      <td>2</td>\n    </tr>\n    <tr>\n      <th>143</th>\n      <td>0.0</td>\n      <td>0.0</td>\n      <td>0.0</td>\n      <td>0.0</td>\n      <td>0.0</td>\n      <td>0.0</td>\n      <td>94.60</td>\n      <td>100.0</td>\n      <td>0.0</td>\n      <td>0.00</td>\n      <td>...</td>\n      <td>0.0</td>\n      <td>0.0</td>\n      <td>0.0</td>\n      <td>0.0</td>\n      <td>Trealose</td>\n      <td>8</td>\n      <td>HepG2</td>\n      <td>6</td>\n      <td>4</td>\n      <td>2</td>\n    </tr>\n    <tr>\n      <th>144</th>\n      <td>0.0</td>\n      <td>0.0</td>\n      <td>0.0</td>\n      <td>0.0</td>\n      <td>0.0</td>\n      <td>0.0</td>\n      <td>94.60</td>\n      <td>100.0</td>\n      <td>0.0</td>\n      <td>0.00</td>\n      <td>...</td>\n      <td>0.0</td>\n      <td>0.0</td>\n      <td>0.0</td>\n      <td>0.0</td>\n      <td>Trealose</td>\n      <td>8</td>\n      <td>HepG2</td>\n      <td>6</td>\n      <td>4</td>\n      <td>2</td>\n    </tr>\n    <tr>\n      <th>145</th>\n      <td>0.0</td>\n      <td>0.0</td>\n      <td>0.0</td>\n      <td>0.0</td>\n      <td>0.0</td>\n      <td>0.0</td>\n      <td>94.60</td>\n      <td>100.0</td>\n      <td>0.0</td>\n      <td>0.00</td>\n      <td>...</td>\n      <td>0.0</td>\n      <td>0.0</td>\n      <td>0.0</td>\n      <td>0.0</td>\n      <td>Trealose</td>\n      <td>8</td>\n      <td>HepG2</td>\n      <td>6</td>\n      <td>4</td>\n      <td>2</td>\n    </tr>\n    <tr>\n      <th>146</th>\n      <td>0.0</td>\n      <td>0.0</td>\n      <td>0.0</td>\n      <td>0.0</td>\n      <td>0.0</td>\n      <td>0.0</td>\n      <td>94.60</td>\n      <td>100.0</td>\n      <td>0.0</td>\n      <td>0.00</td>\n      <td>...</td>\n      <td>0.0</td>\n      <td>0.0</td>\n      <td>0.0</td>\n      <td>0.0</td>\n      <td>Trealose</td>\n      <td>8</td>\n      <td>HepG2</td>\n      <td>6</td>\n      <td>4</td>\n      <td>2</td>\n    </tr>\n  </tbody>\n</table>\n<p>295 rows × 29 columns</p>\n</div>"
     },
     "execution_count": 30,
     "metadata": {},
     "output_type": "execute_result"
    }
   ],
   "source": [
    "preprocessed_data = data_preprocessor.preprocess(essays)\n",
    "preprocessed_data"
   ],
   "metadata": {
    "collapsed": false
   }
  },
  {
   "cell_type": "code",
   "execution_count": null,
   "outputs": [],
   "source": [],
   "metadata": {
    "collapsed": false
   }
  },
  {
   "cell_type": "code",
   "execution_count": null,
   "outputs": [],
   "source": [],
   "metadata": {
    "collapsed": false
   }
  },
  {
   "cell_type": "code",
   "execution_count": null,
   "outputs": [],
   "source": [],
   "metadata": {
    "collapsed": false
   }
  },
  {
   "cell_type": "code",
   "execution_count": 9,
   "outputs": [
    {
     "data": {
      "text/plain": "     INDEX ESPÉCIE/LINHAGEM %_DMSO %_SFB %_MEIO_DE_CULTURA  \\\n0      252       Camundongo     5%   10%               85%   \n1      253       Camundongo     5%   10%               85%   \n2      254       Camundongo     5%   10%               85%   \n3      255       Camundongo    10%   10%               80%   \n4      256       Camundongo    10%   10%               80%   \n..     ...              ...    ...   ...               ...   \n142    247            HepG2     0%    0%                0%   \n143    248            HepG2     0%    0%                0%   \n144    249            HepG2     0%    0%                0%   \n145    250            HepG2     0%    0%                0%   \n146    251            HepG2     0%    0%                0%   \n\n    %_OUTRO_CRIOPROTETOR %_SOLUÇÃO_TOTAL OUTRO_CRIOPROTETOR  \\\n0                     0%            100%                  x   \n1                     0%            100%                  x   \n2                     0%            100%                  x   \n3                     0%            100%                  x   \n4                     0%            100%                  x   \n..                   ...             ...                ...   \n142                 100%            100%           Trealose   \n143                 100%            100%           Trealose   \n144                 100%            100%           Trealose   \n145                 100%            100%           Trealose   \n146                 100%            100%           Trealose   \n\n    %_ANTES_DO_CONGELAMENTO %_APÓS_O_DESCONGELAMENTO  ... MALTOPENTAOSE  \\\n0                    86,50%                   45,45%  ...            0%   \n1                    86,50%                   47,36%  ...            0%   \n2                    86,50%                   44,82%  ...            0%   \n3                    86,50%                   51,64%  ...            0%   \n4                    86,50%                   49,87%  ...            0%   \n..                      ...                      ...  ...           ...   \n142                  94,60%                       0%  ...            0%   \n143                  94,60%                       0%  ...            0%   \n144                  94,60%                       0%  ...            0%   \n145                  94,60%                       0%  ...            0%   \n146                  94,60%                       0%  ...            0%   \n\n    MALTOEXAOSE MALTOHEPTAOSE ϒ-CYCLODEXTRIN DEXTRAN Di-rhamnolipids  \\\n0            0%            0%             0%      0%              0%   \n1            0%            0%             0%      0%              0%   \n2            0%            0%             0%      0%              0%   \n3            0%            0%             0%      0%              0%   \n4            0%            0%             0%      0%              0%   \n..          ...           ...            ...     ...             ...   \n142          0%            0%             0%      0%              0%   \n143          0%            0%             0%      0%              0%   \n144          0%            0%             0%      0%              0%   \n145          0%            0%             0%      0%              0%   \n146          0%            0%             0%      0%              0%   \n\n    TIPO_DE_MEIO_DE_CULTURA TEMPO_DE_AVALIAÇÃO_DA_VIABILIDADE  \\\n0                         7                                 4   \n1                         7                                 4   \n2                         7                                 4   \n3                         7                                 4   \n4                         7                                 4   \n..                      ...                               ...   \n142                       6                                 4   \n143                       6                                 4   \n144                       6                                 4   \n145                       6                                 4   \n146                       6                                 4   \n\n    TESTE_DE_VIABILIDADE REFERÊNCIA  \n0                      2          8  \n1                      2          8  \n2                      2          8  \n3                      2          8  \n4                      2          8  \n..                   ...        ...  \n142                    2          8  \n143                    2          8  \n144                    2          8  \n145                    2          8  \n146                    2          8  \n\n[295 rows x 30 columns]",
      "text/html": "<div>\n<style scoped>\n    .dataframe tbody tr th:only-of-type {\n        vertical-align: middle;\n    }\n\n    .dataframe tbody tr th {\n        vertical-align: top;\n    }\n\n    .dataframe thead th {\n        text-align: right;\n    }\n</style>\n<table border=\"1\" class=\"dataframe\">\n  <thead>\n    <tr style=\"text-align: right;\">\n      <th></th>\n      <th>INDEX</th>\n      <th>ESPÉCIE/LINHAGEM</th>\n      <th>%_DMSO</th>\n      <th>%_SFB</th>\n      <th>%_MEIO_DE_CULTURA</th>\n      <th>%_OUTRO_CRIOPROTETOR</th>\n      <th>%_SOLUÇÃO_TOTAL</th>\n      <th>OUTRO_CRIOPROTETOR</th>\n      <th>%_ANTES_DO_CONGELAMENTO</th>\n      <th>%_APÓS_O_DESCONGELAMENTO</th>\n      <th>...</th>\n      <th>MALTOPENTAOSE</th>\n      <th>MALTOEXAOSE</th>\n      <th>MALTOHEPTAOSE</th>\n      <th>ϒ-CYCLODEXTRIN</th>\n      <th>DEXTRAN</th>\n      <th>Di-rhamnolipids</th>\n      <th>TIPO_DE_MEIO_DE_CULTURA</th>\n      <th>TEMPO_DE_AVALIAÇÃO_DA_VIABILIDADE</th>\n      <th>TESTE_DE_VIABILIDADE</th>\n      <th>REFERÊNCIA</th>\n    </tr>\n  </thead>\n  <tbody>\n    <tr>\n      <th>0</th>\n      <td>252</td>\n      <td>Camundongo</td>\n      <td>5%</td>\n      <td>10%</td>\n      <td>85%</td>\n      <td>0%</td>\n      <td>100%</td>\n      <td>x</td>\n      <td>86,50%</td>\n      <td>45,45%</td>\n      <td>...</td>\n      <td>0%</td>\n      <td>0%</td>\n      <td>0%</td>\n      <td>0%</td>\n      <td>0%</td>\n      <td>0%</td>\n      <td>7</td>\n      <td>4</td>\n      <td>2</td>\n      <td>8</td>\n    </tr>\n    <tr>\n      <th>1</th>\n      <td>253</td>\n      <td>Camundongo</td>\n      <td>5%</td>\n      <td>10%</td>\n      <td>85%</td>\n      <td>0%</td>\n      <td>100%</td>\n      <td>x</td>\n      <td>86,50%</td>\n      <td>47,36%</td>\n      <td>...</td>\n      <td>0%</td>\n      <td>0%</td>\n      <td>0%</td>\n      <td>0%</td>\n      <td>0%</td>\n      <td>0%</td>\n      <td>7</td>\n      <td>4</td>\n      <td>2</td>\n      <td>8</td>\n    </tr>\n    <tr>\n      <th>2</th>\n      <td>254</td>\n      <td>Camundongo</td>\n      <td>5%</td>\n      <td>10%</td>\n      <td>85%</td>\n      <td>0%</td>\n      <td>100%</td>\n      <td>x</td>\n      <td>86,50%</td>\n      <td>44,82%</td>\n      <td>...</td>\n      <td>0%</td>\n      <td>0%</td>\n      <td>0%</td>\n      <td>0%</td>\n      <td>0%</td>\n      <td>0%</td>\n      <td>7</td>\n      <td>4</td>\n      <td>2</td>\n      <td>8</td>\n    </tr>\n    <tr>\n      <th>3</th>\n      <td>255</td>\n      <td>Camundongo</td>\n      <td>10%</td>\n      <td>10%</td>\n      <td>80%</td>\n      <td>0%</td>\n      <td>100%</td>\n      <td>x</td>\n      <td>86,50%</td>\n      <td>51,64%</td>\n      <td>...</td>\n      <td>0%</td>\n      <td>0%</td>\n      <td>0%</td>\n      <td>0%</td>\n      <td>0%</td>\n      <td>0%</td>\n      <td>7</td>\n      <td>4</td>\n      <td>2</td>\n      <td>8</td>\n    </tr>\n    <tr>\n      <th>4</th>\n      <td>256</td>\n      <td>Camundongo</td>\n      <td>10%</td>\n      <td>10%</td>\n      <td>80%</td>\n      <td>0%</td>\n      <td>100%</td>\n      <td>x</td>\n      <td>86,50%</td>\n      <td>49,87%</td>\n      <td>...</td>\n      <td>0%</td>\n      <td>0%</td>\n      <td>0%</td>\n      <td>0%</td>\n      <td>0%</td>\n      <td>0%</td>\n      <td>7</td>\n      <td>4</td>\n      <td>2</td>\n      <td>8</td>\n    </tr>\n    <tr>\n      <th>...</th>\n      <td>...</td>\n      <td>...</td>\n      <td>...</td>\n      <td>...</td>\n      <td>...</td>\n      <td>...</td>\n      <td>...</td>\n      <td>...</td>\n      <td>...</td>\n      <td>...</td>\n      <td>...</td>\n      <td>...</td>\n      <td>...</td>\n      <td>...</td>\n      <td>...</td>\n      <td>...</td>\n      <td>...</td>\n      <td>...</td>\n      <td>...</td>\n      <td>...</td>\n      <td>...</td>\n    </tr>\n    <tr>\n      <th>142</th>\n      <td>247</td>\n      <td>HepG2</td>\n      <td>0%</td>\n      <td>0%</td>\n      <td>0%</td>\n      <td>100%</td>\n      <td>100%</td>\n      <td>Trealose</td>\n      <td>94,60%</td>\n      <td>0%</td>\n      <td>...</td>\n      <td>0%</td>\n      <td>0%</td>\n      <td>0%</td>\n      <td>0%</td>\n      <td>0%</td>\n      <td>0%</td>\n      <td>6</td>\n      <td>4</td>\n      <td>2</td>\n      <td>8</td>\n    </tr>\n    <tr>\n      <th>143</th>\n      <td>248</td>\n      <td>HepG2</td>\n      <td>0%</td>\n      <td>0%</td>\n      <td>0%</td>\n      <td>100%</td>\n      <td>100%</td>\n      <td>Trealose</td>\n      <td>94,60%</td>\n      <td>0%</td>\n      <td>...</td>\n      <td>0%</td>\n      <td>0%</td>\n      <td>0%</td>\n      <td>0%</td>\n      <td>0%</td>\n      <td>0%</td>\n      <td>6</td>\n      <td>4</td>\n      <td>2</td>\n      <td>8</td>\n    </tr>\n    <tr>\n      <th>144</th>\n      <td>249</td>\n      <td>HepG2</td>\n      <td>0%</td>\n      <td>0%</td>\n      <td>0%</td>\n      <td>100%</td>\n      <td>100%</td>\n      <td>Trealose</td>\n      <td>94,60%</td>\n      <td>0%</td>\n      <td>...</td>\n      <td>0%</td>\n      <td>0%</td>\n      <td>0%</td>\n      <td>0%</td>\n      <td>0%</td>\n      <td>0%</td>\n      <td>6</td>\n      <td>4</td>\n      <td>2</td>\n      <td>8</td>\n    </tr>\n    <tr>\n      <th>145</th>\n      <td>250</td>\n      <td>HepG2</td>\n      <td>0%</td>\n      <td>0%</td>\n      <td>0%</td>\n      <td>100%</td>\n      <td>100%</td>\n      <td>Trealose</td>\n      <td>94,60%</td>\n      <td>0%</td>\n      <td>...</td>\n      <td>0%</td>\n      <td>0%</td>\n      <td>0%</td>\n      <td>0%</td>\n      <td>0%</td>\n      <td>0%</td>\n      <td>6</td>\n      <td>4</td>\n      <td>2</td>\n      <td>8</td>\n    </tr>\n    <tr>\n      <th>146</th>\n      <td>251</td>\n      <td>HepG2</td>\n      <td>0%</td>\n      <td>0%</td>\n      <td>0%</td>\n      <td>100%</td>\n      <td>100%</td>\n      <td>Trealose</td>\n      <td>94,60%</td>\n      <td>0%</td>\n      <td>...</td>\n      <td>0%</td>\n      <td>0%</td>\n      <td>0%</td>\n      <td>0%</td>\n      <td>0%</td>\n      <td>0%</td>\n      <td>6</td>\n      <td>4</td>\n      <td>2</td>\n      <td>8</td>\n    </tr>\n  </tbody>\n</table>\n<p>295 rows × 30 columns</p>\n</div>"
     },
     "execution_count": 9,
     "metadata": {},
     "output_type": "execute_result"
    }
   ],
   "source": [
    "preprocessed_data"
   ],
   "metadata": {
    "collapsed": false
   }
  },
  {
   "cell_type": "code",
   "execution_count": 10,
   "outputs": [
    {
     "data": {
      "text/plain": "Index(['INDEX', 'ESPÉCIE/LINHAGEM', '%_DMSO', '%_SFB', '%_MEIO_DE_CULTURA',\n       '%_OUTRO_CRIOPROTETOR', '%_SOLUÇÃO_TOTAL', 'OUTRO_CRIOPROTETOR',\n       '%_ANTES_DO_CONGELAMENTO', '%_APÓS_O_DESCONGELAMENTO',\n       '%_QUEDA_DA_VIABILIDADE', 'TREHALOSE', 'GLICEROL', 'SACAROSE',\n       'GLICOSE', 'MALTOSE', 'LACTOSE', 'RAFFINOSE', 'MALTOTRIOSE',\n       'MALTOTETRAOSE', 'MALTOPENTAOSE', 'MALTOEXAOSE', 'MALTOHEPTAOSE',\n       'ϒ-CYCLODEXTRIN', 'DEXTRAN', 'Di-rhamnolipids',\n       'TIPO_DE_MEIO_DE_CULTURA', 'TEMPO_DE_AVALIAÇÃO_DA_VIABILIDADE',\n       'TESTE_DE_VIABILIDADE', 'REFERÊNCIA'],\n      dtype='object')"
     },
     "execution_count": 10,
     "metadata": {},
     "output_type": "execute_result"
    }
   ],
   "source": [
    "preprocessed_data.columns"
   ],
   "metadata": {
    "collapsed": false
   }
  },
  {
   "cell_type": "code",
   "execution_count": 17,
   "outputs": [
    {
     "ename": "NameError",
     "evalue": "name 'preprocessed_data' is not defined",
     "output_type": "error",
     "traceback": [
      "\u001B[0;31m---------------------------------------------------------------------------\u001B[0m",
      "\u001B[0;31mNameError\u001B[0m                                 Traceback (most recent call last)",
      "Cell \u001B[0;32mIn [17], line 1\u001B[0m\n\u001B[0;32m----> 1\u001B[0m \u001B[43mpreprocessed_data\u001B[49m\n",
      "\u001B[0;31mNameError\u001B[0m: name 'preprocessed_data' is not defined"
     ]
    }
   ],
   "source": [
    "preprocessed_data"
   ],
   "metadata": {
    "collapsed": false
   }
  },
  {
   "cell_type": "code",
   "execution_count": 19,
   "outputs": [
    {
     "ename": "TypeError",
     "evalue": "DataPreprocessor.preprocess() missing 1 required positional argument: 'data'",
     "output_type": "error",
     "traceback": [
      "\u001B[0;31m---------------------------------------------------------------------------\u001B[0m",
      "\u001B[0;31mTypeError\u001B[0m                                 Traceback (most recent call last)",
      "Cell \u001B[0;32mIn [19], line 1\u001B[0m\n\u001B[0;32m----> 1\u001B[0m preprocessed_data \u001B[38;5;241m=\u001B[39m \u001B[43mDataPreprocessor\u001B[49m\u001B[38;5;241;43m.\u001B[39;49m\u001B[43mpreprocess\u001B[49m\u001B[43m(\u001B[49m\u001B[43mdata\u001B[49m\u001B[43m)\u001B[49m\n",
      "\u001B[0;31mTypeError\u001B[0m: DataPreprocessor.preprocess() missing 1 required positional argument: 'data'"
     ]
    }
   ],
   "source": [
    "preprocessed_data = DataPreprocessor.preprocess(data)"
   ],
   "metadata": {
    "collapsed": false
   }
  },
  {
   "cell_type": "code",
   "execution_count": 3,
   "outputs": [
    {
     "name": "stdout",
     "output_type": "stream",
     "text": [
      "rat.csv\n"
     ]
    },
    {
     "ename": "ParserError",
     "evalue": "Error tokenizing data. C error: Expected 4 fields in line 76, saw 6\n",
     "output_type": "error",
     "traceback": [
      "\u001B[0;31m---------------------------------------------------------------------------\u001B[0m",
      "\u001B[0;31mParserError\u001B[0m                               Traceback (most recent call last)",
      "Cell \u001B[0;32mIn [3], line 1\u001B[0m\n\u001B[0;32m----> 1\u001B[0m \u001B[43mData\u001B[49m\u001B[38;5;241;43m.\u001B[39;49m\u001B[43mload\u001B[49m\u001B[43m(\u001B[49m\u001B[43m)\u001B[49m\n",
      "File \u001B[0;32m~/Documents/Research/Fiocruz/hepatocytes-crypreservation-solutions/src/data.py:12\u001B[0m, in \u001B[0;36mData.load\u001B[0;34m()\u001B[0m\n\u001B[1;32m     10\u001B[0m \u001B[38;5;28;01mfor\u001B[39;00m essay \u001B[38;5;129;01min\u001B[39;00m ESSAYS:\n\u001B[1;32m     11\u001B[0m     \u001B[38;5;28mprint\u001B[39m(essay)\n\u001B[0;32m---> 12\u001B[0m     data \u001B[38;5;241m=\u001B[39m data\u001B[38;5;241m.\u001B[39mappend(\u001B[43mpd\u001B[49m\u001B[38;5;241;43m.\u001B[39;49m\u001B[43mread_csv\u001B[49m\u001B[43m(\u001B[49m\u001B[43mESSAYS_DIR\u001B[49m\u001B[43m \u001B[49m\u001B[38;5;241;43m+\u001B[39;49m\u001B[43m \u001B[49m\u001B[43messay\u001B[49m\u001B[43m)\u001B[49m)\n\u001B[1;32m     13\u001B[0m \u001B[38;5;28;01mreturn\u001B[39;00m data\n",
      "File \u001B[0;32m~/opt/anaconda3/envs/python3/lib/python3.10/site-packages/pandas/util/_decorators.py:211\u001B[0m, in \u001B[0;36mdeprecate_kwarg.<locals>._deprecate_kwarg.<locals>.wrapper\u001B[0;34m(*args, **kwargs)\u001B[0m\n\u001B[1;32m    209\u001B[0m     \u001B[38;5;28;01melse\u001B[39;00m:\n\u001B[1;32m    210\u001B[0m         kwargs[new_arg_name] \u001B[38;5;241m=\u001B[39m new_arg_value\n\u001B[0;32m--> 211\u001B[0m \u001B[38;5;28;01mreturn\u001B[39;00m \u001B[43mfunc\u001B[49m\u001B[43m(\u001B[49m\u001B[38;5;241;43m*\u001B[39;49m\u001B[43margs\u001B[49m\u001B[43m,\u001B[49m\u001B[43m \u001B[49m\u001B[38;5;241;43m*\u001B[39;49m\u001B[38;5;241;43m*\u001B[39;49m\u001B[43mkwargs\u001B[49m\u001B[43m)\u001B[49m\n",
      "File \u001B[0;32m~/opt/anaconda3/envs/python3/lib/python3.10/site-packages/pandas/util/_decorators.py:331\u001B[0m, in \u001B[0;36mdeprecate_nonkeyword_arguments.<locals>.decorate.<locals>.wrapper\u001B[0;34m(*args, **kwargs)\u001B[0m\n\u001B[1;32m    325\u001B[0m \u001B[38;5;28;01mif\u001B[39;00m \u001B[38;5;28mlen\u001B[39m(args) \u001B[38;5;241m>\u001B[39m num_allow_args:\n\u001B[1;32m    326\u001B[0m     warnings\u001B[38;5;241m.\u001B[39mwarn(\n\u001B[1;32m    327\u001B[0m         msg\u001B[38;5;241m.\u001B[39mformat(arguments\u001B[38;5;241m=\u001B[39m_format_argument_list(allow_args)),\n\u001B[1;32m    328\u001B[0m         \u001B[38;5;167;01mFutureWarning\u001B[39;00m,\n\u001B[1;32m    329\u001B[0m         stacklevel\u001B[38;5;241m=\u001B[39mfind_stack_level(),\n\u001B[1;32m    330\u001B[0m     )\n\u001B[0;32m--> 331\u001B[0m \u001B[38;5;28;01mreturn\u001B[39;00m \u001B[43mfunc\u001B[49m\u001B[43m(\u001B[49m\u001B[38;5;241;43m*\u001B[39;49m\u001B[43margs\u001B[49m\u001B[43m,\u001B[49m\u001B[43m \u001B[49m\u001B[38;5;241;43m*\u001B[39;49m\u001B[38;5;241;43m*\u001B[39;49m\u001B[43mkwargs\u001B[49m\u001B[43m)\u001B[49m\n",
      "File \u001B[0;32m~/opt/anaconda3/envs/python3/lib/python3.10/site-packages/pandas/io/parsers/readers.py:950\u001B[0m, in \u001B[0;36mread_csv\u001B[0;34m(filepath_or_buffer, sep, delimiter, header, names, index_col, usecols, squeeze, prefix, mangle_dupe_cols, dtype, engine, converters, true_values, false_values, skipinitialspace, skiprows, skipfooter, nrows, na_values, keep_default_na, na_filter, verbose, skip_blank_lines, parse_dates, infer_datetime_format, keep_date_col, date_parser, dayfirst, cache_dates, iterator, chunksize, compression, thousands, decimal, lineterminator, quotechar, quoting, doublequote, escapechar, comment, encoding, encoding_errors, dialect, error_bad_lines, warn_bad_lines, on_bad_lines, delim_whitespace, low_memory, memory_map, float_precision, storage_options)\u001B[0m\n\u001B[1;32m    935\u001B[0m kwds_defaults \u001B[38;5;241m=\u001B[39m _refine_defaults_read(\n\u001B[1;32m    936\u001B[0m     dialect,\n\u001B[1;32m    937\u001B[0m     delimiter,\n\u001B[0;32m   (...)\u001B[0m\n\u001B[1;32m    946\u001B[0m     defaults\u001B[38;5;241m=\u001B[39m{\u001B[38;5;124m\"\u001B[39m\u001B[38;5;124mdelimiter\u001B[39m\u001B[38;5;124m\"\u001B[39m: \u001B[38;5;124m\"\u001B[39m\u001B[38;5;124m,\u001B[39m\u001B[38;5;124m\"\u001B[39m},\n\u001B[1;32m    947\u001B[0m )\n\u001B[1;32m    948\u001B[0m kwds\u001B[38;5;241m.\u001B[39mupdate(kwds_defaults)\n\u001B[0;32m--> 950\u001B[0m \u001B[38;5;28;01mreturn\u001B[39;00m \u001B[43m_read\u001B[49m\u001B[43m(\u001B[49m\u001B[43mfilepath_or_buffer\u001B[49m\u001B[43m,\u001B[49m\u001B[43m \u001B[49m\u001B[43mkwds\u001B[49m\u001B[43m)\u001B[49m\n",
      "File \u001B[0;32m~/opt/anaconda3/envs/python3/lib/python3.10/site-packages/pandas/io/parsers/readers.py:611\u001B[0m, in \u001B[0;36m_read\u001B[0;34m(filepath_or_buffer, kwds)\u001B[0m\n\u001B[1;32m    608\u001B[0m     \u001B[38;5;28;01mreturn\u001B[39;00m parser\n\u001B[1;32m    610\u001B[0m \u001B[38;5;28;01mwith\u001B[39;00m parser:\n\u001B[0;32m--> 611\u001B[0m     \u001B[38;5;28;01mreturn\u001B[39;00m \u001B[43mparser\u001B[49m\u001B[38;5;241;43m.\u001B[39;49m\u001B[43mread\u001B[49m\u001B[43m(\u001B[49m\u001B[43mnrows\u001B[49m\u001B[43m)\u001B[49m\n",
      "File \u001B[0;32m~/opt/anaconda3/envs/python3/lib/python3.10/site-packages/pandas/io/parsers/readers.py:1778\u001B[0m, in \u001B[0;36mTextFileReader.read\u001B[0;34m(self, nrows)\u001B[0m\n\u001B[1;32m   1771\u001B[0m nrows \u001B[38;5;241m=\u001B[39m validate_integer(\u001B[38;5;124m\"\u001B[39m\u001B[38;5;124mnrows\u001B[39m\u001B[38;5;124m\"\u001B[39m, nrows)\n\u001B[1;32m   1772\u001B[0m \u001B[38;5;28;01mtry\u001B[39;00m:\n\u001B[1;32m   1773\u001B[0m     \u001B[38;5;66;03m# error: \"ParserBase\" has no attribute \"read\"\u001B[39;00m\n\u001B[1;32m   1774\u001B[0m     (\n\u001B[1;32m   1775\u001B[0m         index,\n\u001B[1;32m   1776\u001B[0m         columns,\n\u001B[1;32m   1777\u001B[0m         col_dict,\n\u001B[0;32m-> 1778\u001B[0m     ) \u001B[38;5;241m=\u001B[39m \u001B[38;5;28;43mself\u001B[39;49m\u001B[38;5;241;43m.\u001B[39;49m\u001B[43m_engine\u001B[49m\u001B[38;5;241;43m.\u001B[39;49m\u001B[43mread\u001B[49m\u001B[43m(\u001B[49m\u001B[43m  \u001B[49m\u001B[38;5;66;43;03m# type: ignore[attr-defined]\u001B[39;49;00m\n\u001B[1;32m   1779\u001B[0m \u001B[43m        \u001B[49m\u001B[43mnrows\u001B[49m\n\u001B[1;32m   1780\u001B[0m \u001B[43m    \u001B[49m\u001B[43m)\u001B[49m\n\u001B[1;32m   1781\u001B[0m \u001B[38;5;28;01mexcept\u001B[39;00m \u001B[38;5;167;01mException\u001B[39;00m:\n\u001B[1;32m   1782\u001B[0m     \u001B[38;5;28mself\u001B[39m\u001B[38;5;241m.\u001B[39mclose()\n",
      "File \u001B[0;32m~/opt/anaconda3/envs/python3/lib/python3.10/site-packages/pandas/io/parsers/c_parser_wrapper.py:230\u001B[0m, in \u001B[0;36mCParserWrapper.read\u001B[0;34m(self, nrows)\u001B[0m\n\u001B[1;32m    228\u001B[0m \u001B[38;5;28;01mtry\u001B[39;00m:\n\u001B[1;32m    229\u001B[0m     \u001B[38;5;28;01mif\u001B[39;00m \u001B[38;5;28mself\u001B[39m\u001B[38;5;241m.\u001B[39mlow_memory:\n\u001B[0;32m--> 230\u001B[0m         chunks \u001B[38;5;241m=\u001B[39m \u001B[38;5;28;43mself\u001B[39;49m\u001B[38;5;241;43m.\u001B[39;49m\u001B[43m_reader\u001B[49m\u001B[38;5;241;43m.\u001B[39;49m\u001B[43mread_low_memory\u001B[49m\u001B[43m(\u001B[49m\u001B[43mnrows\u001B[49m\u001B[43m)\u001B[49m\n\u001B[1;32m    231\u001B[0m         \u001B[38;5;66;03m# destructive to chunks\u001B[39;00m\n\u001B[1;32m    232\u001B[0m         data \u001B[38;5;241m=\u001B[39m _concatenate_chunks(chunks)\n",
      "File \u001B[0;32m~/opt/anaconda3/envs/python3/lib/python3.10/site-packages/pandas/_libs/parsers.pyx:808\u001B[0m, in \u001B[0;36mpandas._libs.parsers.TextReader.read_low_memory\u001B[0;34m()\u001B[0m\n",
      "File \u001B[0;32m~/opt/anaconda3/envs/python3/lib/python3.10/site-packages/pandas/_libs/parsers.pyx:866\u001B[0m, in \u001B[0;36mpandas._libs.parsers.TextReader._read_rows\u001B[0;34m()\u001B[0m\n",
      "File \u001B[0;32m~/opt/anaconda3/envs/python3/lib/python3.10/site-packages/pandas/_libs/parsers.pyx:852\u001B[0m, in \u001B[0;36mpandas._libs.parsers.TextReader._tokenize_rows\u001B[0;34m()\u001B[0m\n",
      "File \u001B[0;32m~/opt/anaconda3/envs/python3/lib/python3.10/site-packages/pandas/_libs/parsers.pyx:1973\u001B[0m, in \u001B[0;36mpandas._libs.parsers.raise_parser_error\u001B[0;34m()\u001B[0m\n",
      "\u001B[0;31mParserError\u001B[0m: Error tokenizing data. C error: Expected 4 fields in line 76, saw 6\n"
     ]
    }
   ],
   "source": [
    "Data.load()"
   ],
   "metadata": {
    "collapsed": false
   }
  },
  {
   "cell_type": "code",
   "execution_count": 10,
   "outputs": [
    {
     "data": {
      "text/plain": "     INDEX ESPÉCIE/LINHAGEM  % DMSO  % SFB  % MEIO DE CULTURA  \\\n0        1             RATO     0.1    0.4               0.50   \n1        2             RATO     0.0    0.0               0.90   \n2        3             RATO     0.0    0.0               0.80   \n3        4             RATO     0.0    0.0               0.70   \n4        5             RATO     0.0    0.0               0.60   \n..     ...              ...     ...    ...                ...   \n112    113             RATO     0.1    0.1               0.70   \n113    114             RATO     0.1    0.1               0.75   \n114    115             RATO     0.1    0.1               0.70   \n115    116             RATO     0.1    0.1               0.60   \n116    117             RATO     0.1    0.1               0.77   \n\n     % OUTRO CRIOPROTETOR  % SOLUÇÃO TOTAL  OUTRO CRIOPROTETOR  \\\n0                    0.00               1.0                  x   \n1                    0.10               1.0           Sacarose   \n2                    0.20               1.0           Sacarose   \n3                    0.30               1.0           Sacarose   \n4                    0.40               1.0           Sacarose   \n..                    ...               ...                ...   \n112                  0.10               1.0      Maltoheptaose   \n113                  0.05               1.0     γ-Ciclodextrin   \n114                  0.10               1.0     γ-Ciclodextrin   \n115                  0.20               1.0     γ-Ciclodextrin   \n116                  0.03               1.0            Dextran   \n\n     % ANTES DO CONGELAMENTO  % APÓS O DESCONGELAMENTO  ...  MALTOPENTAOSE  \\\n0                       0.90                      0.80  ...            0.0   \n1                       0.85                      0.00  ...            0.0   \n2                       0.85                      0.00  ...            0.0   \n3                       0.85                      0.00  ...            0.0   \n4                       0.85                      0.00  ...            0.0   \n..                       ...                       ...  ...            ...   \n112                     0.81                      0.57  ...            0.0   \n113                     0.81                      0.22  ...            0.0   \n114                     0.81                      0.03  ...            0.0   \n115                     0.81                      0.01  ...            0.0   \n116                     0.81                      0.58  ...            0.0   \n\n     MALTOEXAOSE  MALTOHEPTAOSE  ϒ-CYCLODEXTRIN  DEXTRAN   Di-rhamnolipids  \\\n0            0.0            0.0            0.00      0.00                0   \n1            0.0            0.0            0.00      0.00                0   \n2            0.0            0.0            0.00      0.00                0   \n3            0.0            0.0            0.00      0.00                0   \n4            0.0            0.0            0.00      0.00                0   \n..           ...            ...             ...       ...              ...   \n112          0.0            0.1            0.00      0.00                0   \n113          0.0            0.0            0.05      0.00                0   \n114          0.0            0.0            0.10      0.00                0   \n115          0.0            0.0            0.20      0.00                0   \n116          0.0            0.0            0.00      0.03                0   \n\n     TIPO DE MEIO DE CULTURA  TEMPO DE AVALIAÇÃO DA VIABILIDADE  \\\n0                          1                                  2   \n1                          1                                  1   \n2                          1                                  1   \n3                          1                                  1   \n4                          1                                  1   \n..                       ...                                ...   \n112                        2                                  4   \n113                        2                                  4   \n114                        2                                  4   \n115                        2                                  4   \n116                        2                                  4   \n\n     TESTE DE VIABILIDADE   REFERÊNCIA  \n0                        1           1  \n1                        1           2  \n2                        1           2  \n3                        1           2  \n4                        1           2  \n..                     ...         ...  \n112                      2           9  \n113                      2           9  \n114                      2           9  \n115                      2           9  \n116                      2           9  \n\n[117 rows x 30 columns]",
      "text/html": "<div>\n<style scoped>\n    .dataframe tbody tr th:only-of-type {\n        vertical-align: middle;\n    }\n\n    .dataframe tbody tr th {\n        vertical-align: top;\n    }\n\n    .dataframe thead th {\n        text-align: right;\n    }\n</style>\n<table border=\"1\" class=\"dataframe\">\n  <thead>\n    <tr style=\"text-align: right;\">\n      <th></th>\n      <th>INDEX</th>\n      <th>ESPÉCIE/LINHAGEM</th>\n      <th>% DMSO</th>\n      <th>% SFB</th>\n      <th>% MEIO DE CULTURA</th>\n      <th>% OUTRO CRIOPROTETOR</th>\n      <th>% SOLUÇÃO TOTAL</th>\n      <th>OUTRO CRIOPROTETOR</th>\n      <th>% ANTES DO CONGELAMENTO</th>\n      <th>% APÓS O DESCONGELAMENTO</th>\n      <th>...</th>\n      <th>MALTOPENTAOSE</th>\n      <th>MALTOEXAOSE</th>\n      <th>MALTOHEPTAOSE</th>\n      <th>ϒ-CYCLODEXTRIN</th>\n      <th>DEXTRAN</th>\n      <th>Di-rhamnolipids</th>\n      <th>TIPO DE MEIO DE CULTURA</th>\n      <th>TEMPO DE AVALIAÇÃO DA VIABILIDADE</th>\n      <th>TESTE DE VIABILIDADE</th>\n      <th>REFERÊNCIA</th>\n    </tr>\n  </thead>\n  <tbody>\n    <tr>\n      <th>0</th>\n      <td>1</td>\n      <td>RATO</td>\n      <td>0.1</td>\n      <td>0.4</td>\n      <td>0.50</td>\n      <td>0.00</td>\n      <td>1.0</td>\n      <td>x</td>\n      <td>0.90</td>\n      <td>0.80</td>\n      <td>...</td>\n      <td>0.0</td>\n      <td>0.0</td>\n      <td>0.0</td>\n      <td>0.00</td>\n      <td>0.00</td>\n      <td>0</td>\n      <td>1</td>\n      <td>2</td>\n      <td>1</td>\n      <td>1</td>\n    </tr>\n    <tr>\n      <th>1</th>\n      <td>2</td>\n      <td>RATO</td>\n      <td>0.0</td>\n      <td>0.0</td>\n      <td>0.90</td>\n      <td>0.10</td>\n      <td>1.0</td>\n      <td>Sacarose</td>\n      <td>0.85</td>\n      <td>0.00</td>\n      <td>...</td>\n      <td>0.0</td>\n      <td>0.0</td>\n      <td>0.0</td>\n      <td>0.00</td>\n      <td>0.00</td>\n      <td>0</td>\n      <td>1</td>\n      <td>1</td>\n      <td>1</td>\n      <td>2</td>\n    </tr>\n    <tr>\n      <th>2</th>\n      <td>3</td>\n      <td>RATO</td>\n      <td>0.0</td>\n      <td>0.0</td>\n      <td>0.80</td>\n      <td>0.20</td>\n      <td>1.0</td>\n      <td>Sacarose</td>\n      <td>0.85</td>\n      <td>0.00</td>\n      <td>...</td>\n      <td>0.0</td>\n      <td>0.0</td>\n      <td>0.0</td>\n      <td>0.00</td>\n      <td>0.00</td>\n      <td>0</td>\n      <td>1</td>\n      <td>1</td>\n      <td>1</td>\n      <td>2</td>\n    </tr>\n    <tr>\n      <th>3</th>\n      <td>4</td>\n      <td>RATO</td>\n      <td>0.0</td>\n      <td>0.0</td>\n      <td>0.70</td>\n      <td>0.30</td>\n      <td>1.0</td>\n      <td>Sacarose</td>\n      <td>0.85</td>\n      <td>0.00</td>\n      <td>...</td>\n      <td>0.0</td>\n      <td>0.0</td>\n      <td>0.0</td>\n      <td>0.00</td>\n      <td>0.00</td>\n      <td>0</td>\n      <td>1</td>\n      <td>1</td>\n      <td>1</td>\n      <td>2</td>\n    </tr>\n    <tr>\n      <th>4</th>\n      <td>5</td>\n      <td>RATO</td>\n      <td>0.0</td>\n      <td>0.0</td>\n      <td>0.60</td>\n      <td>0.40</td>\n      <td>1.0</td>\n      <td>Sacarose</td>\n      <td>0.85</td>\n      <td>0.00</td>\n      <td>...</td>\n      <td>0.0</td>\n      <td>0.0</td>\n      <td>0.0</td>\n      <td>0.00</td>\n      <td>0.00</td>\n      <td>0</td>\n      <td>1</td>\n      <td>1</td>\n      <td>1</td>\n      <td>2</td>\n    </tr>\n    <tr>\n      <th>...</th>\n      <td>...</td>\n      <td>...</td>\n      <td>...</td>\n      <td>...</td>\n      <td>...</td>\n      <td>...</td>\n      <td>...</td>\n      <td>...</td>\n      <td>...</td>\n      <td>...</td>\n      <td>...</td>\n      <td>...</td>\n      <td>...</td>\n      <td>...</td>\n      <td>...</td>\n      <td>...</td>\n      <td>...</td>\n      <td>...</td>\n      <td>...</td>\n      <td>...</td>\n      <td>...</td>\n    </tr>\n    <tr>\n      <th>112</th>\n      <td>113</td>\n      <td>RATO</td>\n      <td>0.1</td>\n      <td>0.1</td>\n      <td>0.70</td>\n      <td>0.10</td>\n      <td>1.0</td>\n      <td>Maltoheptaose</td>\n      <td>0.81</td>\n      <td>0.57</td>\n      <td>...</td>\n      <td>0.0</td>\n      <td>0.0</td>\n      <td>0.1</td>\n      <td>0.00</td>\n      <td>0.00</td>\n      <td>0</td>\n      <td>2</td>\n      <td>4</td>\n      <td>2</td>\n      <td>9</td>\n    </tr>\n    <tr>\n      <th>113</th>\n      <td>114</td>\n      <td>RATO</td>\n      <td>0.1</td>\n      <td>0.1</td>\n      <td>0.75</td>\n      <td>0.05</td>\n      <td>1.0</td>\n      <td>γ-Ciclodextrin</td>\n      <td>0.81</td>\n      <td>0.22</td>\n      <td>...</td>\n      <td>0.0</td>\n      <td>0.0</td>\n      <td>0.0</td>\n      <td>0.05</td>\n      <td>0.00</td>\n      <td>0</td>\n      <td>2</td>\n      <td>4</td>\n      <td>2</td>\n      <td>9</td>\n    </tr>\n    <tr>\n      <th>114</th>\n      <td>115</td>\n      <td>RATO</td>\n      <td>0.1</td>\n      <td>0.1</td>\n      <td>0.70</td>\n      <td>0.10</td>\n      <td>1.0</td>\n      <td>γ-Ciclodextrin</td>\n      <td>0.81</td>\n      <td>0.03</td>\n      <td>...</td>\n      <td>0.0</td>\n      <td>0.0</td>\n      <td>0.0</td>\n      <td>0.10</td>\n      <td>0.00</td>\n      <td>0</td>\n      <td>2</td>\n      <td>4</td>\n      <td>2</td>\n      <td>9</td>\n    </tr>\n    <tr>\n      <th>115</th>\n      <td>116</td>\n      <td>RATO</td>\n      <td>0.1</td>\n      <td>0.1</td>\n      <td>0.60</td>\n      <td>0.20</td>\n      <td>1.0</td>\n      <td>γ-Ciclodextrin</td>\n      <td>0.81</td>\n      <td>0.01</td>\n      <td>...</td>\n      <td>0.0</td>\n      <td>0.0</td>\n      <td>0.0</td>\n      <td>0.20</td>\n      <td>0.00</td>\n      <td>0</td>\n      <td>2</td>\n      <td>4</td>\n      <td>2</td>\n      <td>9</td>\n    </tr>\n    <tr>\n      <th>116</th>\n      <td>117</td>\n      <td>RATO</td>\n      <td>0.1</td>\n      <td>0.1</td>\n      <td>0.77</td>\n      <td>0.03</td>\n      <td>1.0</td>\n      <td>Dextran</td>\n      <td>0.81</td>\n      <td>0.58</td>\n      <td>...</td>\n      <td>0.0</td>\n      <td>0.0</td>\n      <td>0.0</td>\n      <td>0.00</td>\n      <td>0.03</td>\n      <td>0</td>\n      <td>2</td>\n      <td>4</td>\n      <td>2</td>\n      <td>9</td>\n    </tr>\n  </tbody>\n</table>\n<p>117 rows × 30 columns</p>\n</div>"
     },
     "execution_count": 10,
     "metadata": {},
     "output_type": "execute_result"
    }
   ],
   "source": [
    "dataloader.data"
   ],
   "metadata": {
    "collapsed": false
   }
  },
  {
   "cell_type": "code",
   "execution_count": 4,
   "outputs": [],
   "source": [
    "essays = pd.read_excel(\"\")"
   ],
   "metadata": {
    "collapsed": false
   }
  },
  {
   "cell_type": "code",
   "execution_count": 5,
   "outputs": [
    {
     "data": {
      "text/plain": "     INDEX ESPÉCIE/LINHAGEM  % DMSO  % SFB  % MEIO DE CULTURA  \\\n0        1             RATO     0.1    0.4               0.50   \n1        2             RATO     0.0    0.0               0.90   \n2        3             RATO     0.0    0.0               0.80   \n3        4             RATO     0.0    0.0               0.70   \n4        5             RATO     0.0    0.0               0.60   \n..     ...              ...     ...    ...                ...   \n112    113             RATO     0.1    0.1               0.70   \n113    114             RATO     0.1    0.1               0.75   \n114    115             RATO     0.1    0.1               0.70   \n115    116             RATO     0.1    0.1               0.60   \n116    117             RATO     0.1    0.1               0.77   \n\n     % OUTRO CRIOPROTETOR  % SOLUÇÃO TOTAL  OUTRO CRIOPROTETOR  \\\n0                    0.00               1.0                  x   \n1                    0.10               1.0           Sacarose   \n2                    0.20               1.0           Sacarose   \n3                    0.30               1.0           Sacarose   \n4                    0.40               1.0           Sacarose   \n..                    ...               ...                ...   \n112                  0.10               1.0      Maltoheptaose   \n113                  0.05               1.0     γ-Ciclodextrin   \n114                  0.10               1.0     γ-Ciclodextrin   \n115                  0.20               1.0     γ-Ciclodextrin   \n116                  0.03               1.0            Dextran   \n\n     % ANTES DO CONGELAMENTO  % APÓS O DESCONGELAMENTO  ...  MALTOPENTAOSE  \\\n0                       0.90                      0.80  ...            0.0   \n1                       0.85                      0.00  ...            0.0   \n2                       0.85                      0.00  ...            0.0   \n3                       0.85                      0.00  ...            0.0   \n4                       0.85                      0.00  ...            0.0   \n..                       ...                       ...  ...            ...   \n112                     0.81                      0.57  ...            0.0   \n113                     0.81                      0.22  ...            0.0   \n114                     0.81                      0.03  ...            0.0   \n115                     0.81                      0.01  ...            0.0   \n116                     0.81                      0.58  ...            0.0   \n\n     MALTOEXAOSE  MALTOHEPTAOSE  ϒ-CYCLODEXTRIN  DEXTRAN   Di-rhamnolipids  \\\n0            0.0            0.0            0.00      0.00                0   \n1            0.0            0.0            0.00      0.00                0   \n2            0.0            0.0            0.00      0.00                0   \n3            0.0            0.0            0.00      0.00                0   \n4            0.0            0.0            0.00      0.00                0   \n..           ...            ...             ...       ...              ...   \n112          0.0            0.1            0.00      0.00                0   \n113          0.0            0.0            0.05      0.00                0   \n114          0.0            0.0            0.10      0.00                0   \n115          0.0            0.0            0.20      0.00                0   \n116          0.0            0.0            0.00      0.03                0   \n\n     TIPO DE MEIO DE CULTURA  TEMPO DE AVALIAÇÃO DA VIABILIDADE  \\\n0                          1                                  2   \n1                          1                                  1   \n2                          1                                  1   \n3                          1                                  1   \n4                          1                                  1   \n..                       ...                                ...   \n112                        2                                  4   \n113                        2                                  4   \n114                        2                                  4   \n115                        2                                  4   \n116                        2                                  4   \n\n     TESTE DE VIABILIDADE   REFERÊNCIA  \n0                        1           1  \n1                        1           2  \n2                        1           2  \n3                        1           2  \n4                        1           2  \n..                     ...         ...  \n112                      2           9  \n113                      2           9  \n114                      2           9  \n115                      2           9  \n116                      2           9  \n\n[117 rows x 30 columns]",
      "text/html": "<div>\n<style scoped>\n    .dataframe tbody tr th:only-of-type {\n        vertical-align: middle;\n    }\n\n    .dataframe tbody tr th {\n        vertical-align: top;\n    }\n\n    .dataframe thead th {\n        text-align: right;\n    }\n</style>\n<table border=\"1\" class=\"dataframe\">\n  <thead>\n    <tr style=\"text-align: right;\">\n      <th></th>\n      <th>INDEX</th>\n      <th>ESPÉCIE/LINHAGEM</th>\n      <th>% DMSO</th>\n      <th>% SFB</th>\n      <th>% MEIO DE CULTURA</th>\n      <th>% OUTRO CRIOPROTETOR</th>\n      <th>% SOLUÇÃO TOTAL</th>\n      <th>OUTRO CRIOPROTETOR</th>\n      <th>% ANTES DO CONGELAMENTO</th>\n      <th>% APÓS O DESCONGELAMENTO</th>\n      <th>...</th>\n      <th>MALTOPENTAOSE</th>\n      <th>MALTOEXAOSE</th>\n      <th>MALTOHEPTAOSE</th>\n      <th>ϒ-CYCLODEXTRIN</th>\n      <th>DEXTRAN</th>\n      <th>Di-rhamnolipids</th>\n      <th>TIPO DE MEIO DE CULTURA</th>\n      <th>TEMPO DE AVALIAÇÃO DA VIABILIDADE</th>\n      <th>TESTE DE VIABILIDADE</th>\n      <th>REFERÊNCIA</th>\n    </tr>\n  </thead>\n  <tbody>\n    <tr>\n      <th>0</th>\n      <td>1</td>\n      <td>RATO</td>\n      <td>0.1</td>\n      <td>0.4</td>\n      <td>0.50</td>\n      <td>0.00</td>\n      <td>1.0</td>\n      <td>x</td>\n      <td>0.90</td>\n      <td>0.80</td>\n      <td>...</td>\n      <td>0.0</td>\n      <td>0.0</td>\n      <td>0.0</td>\n      <td>0.00</td>\n      <td>0.00</td>\n      <td>0</td>\n      <td>1</td>\n      <td>2</td>\n      <td>1</td>\n      <td>1</td>\n    </tr>\n    <tr>\n      <th>1</th>\n      <td>2</td>\n      <td>RATO</td>\n      <td>0.0</td>\n      <td>0.0</td>\n      <td>0.90</td>\n      <td>0.10</td>\n      <td>1.0</td>\n      <td>Sacarose</td>\n      <td>0.85</td>\n      <td>0.00</td>\n      <td>...</td>\n      <td>0.0</td>\n      <td>0.0</td>\n      <td>0.0</td>\n      <td>0.00</td>\n      <td>0.00</td>\n      <td>0</td>\n      <td>1</td>\n      <td>1</td>\n      <td>1</td>\n      <td>2</td>\n    </tr>\n    <tr>\n      <th>2</th>\n      <td>3</td>\n      <td>RATO</td>\n      <td>0.0</td>\n      <td>0.0</td>\n      <td>0.80</td>\n      <td>0.20</td>\n      <td>1.0</td>\n      <td>Sacarose</td>\n      <td>0.85</td>\n      <td>0.00</td>\n      <td>...</td>\n      <td>0.0</td>\n      <td>0.0</td>\n      <td>0.0</td>\n      <td>0.00</td>\n      <td>0.00</td>\n      <td>0</td>\n      <td>1</td>\n      <td>1</td>\n      <td>1</td>\n      <td>2</td>\n    </tr>\n    <tr>\n      <th>3</th>\n      <td>4</td>\n      <td>RATO</td>\n      <td>0.0</td>\n      <td>0.0</td>\n      <td>0.70</td>\n      <td>0.30</td>\n      <td>1.0</td>\n      <td>Sacarose</td>\n      <td>0.85</td>\n      <td>0.00</td>\n      <td>...</td>\n      <td>0.0</td>\n      <td>0.0</td>\n      <td>0.0</td>\n      <td>0.00</td>\n      <td>0.00</td>\n      <td>0</td>\n      <td>1</td>\n      <td>1</td>\n      <td>1</td>\n      <td>2</td>\n    </tr>\n    <tr>\n      <th>4</th>\n      <td>5</td>\n      <td>RATO</td>\n      <td>0.0</td>\n      <td>0.0</td>\n      <td>0.60</td>\n      <td>0.40</td>\n      <td>1.0</td>\n      <td>Sacarose</td>\n      <td>0.85</td>\n      <td>0.00</td>\n      <td>...</td>\n      <td>0.0</td>\n      <td>0.0</td>\n      <td>0.0</td>\n      <td>0.00</td>\n      <td>0.00</td>\n      <td>0</td>\n      <td>1</td>\n      <td>1</td>\n      <td>1</td>\n      <td>2</td>\n    </tr>\n    <tr>\n      <th>...</th>\n      <td>...</td>\n      <td>...</td>\n      <td>...</td>\n      <td>...</td>\n      <td>...</td>\n      <td>...</td>\n      <td>...</td>\n      <td>...</td>\n      <td>...</td>\n      <td>...</td>\n      <td>...</td>\n      <td>...</td>\n      <td>...</td>\n      <td>...</td>\n      <td>...</td>\n      <td>...</td>\n      <td>...</td>\n      <td>...</td>\n      <td>...</td>\n      <td>...</td>\n      <td>...</td>\n    </tr>\n    <tr>\n      <th>112</th>\n      <td>113</td>\n      <td>RATO</td>\n      <td>0.1</td>\n      <td>0.1</td>\n      <td>0.70</td>\n      <td>0.10</td>\n      <td>1.0</td>\n      <td>Maltoheptaose</td>\n      <td>0.81</td>\n      <td>0.57</td>\n      <td>...</td>\n      <td>0.0</td>\n      <td>0.0</td>\n      <td>0.1</td>\n      <td>0.00</td>\n      <td>0.00</td>\n      <td>0</td>\n      <td>2</td>\n      <td>4</td>\n      <td>2</td>\n      <td>9</td>\n    </tr>\n    <tr>\n      <th>113</th>\n      <td>114</td>\n      <td>RATO</td>\n      <td>0.1</td>\n      <td>0.1</td>\n      <td>0.75</td>\n      <td>0.05</td>\n      <td>1.0</td>\n      <td>γ-Ciclodextrin</td>\n      <td>0.81</td>\n      <td>0.22</td>\n      <td>...</td>\n      <td>0.0</td>\n      <td>0.0</td>\n      <td>0.0</td>\n      <td>0.05</td>\n      <td>0.00</td>\n      <td>0</td>\n      <td>2</td>\n      <td>4</td>\n      <td>2</td>\n      <td>9</td>\n    </tr>\n    <tr>\n      <th>114</th>\n      <td>115</td>\n      <td>RATO</td>\n      <td>0.1</td>\n      <td>0.1</td>\n      <td>0.70</td>\n      <td>0.10</td>\n      <td>1.0</td>\n      <td>γ-Ciclodextrin</td>\n      <td>0.81</td>\n      <td>0.03</td>\n      <td>...</td>\n      <td>0.0</td>\n      <td>0.0</td>\n      <td>0.0</td>\n      <td>0.10</td>\n      <td>0.00</td>\n      <td>0</td>\n      <td>2</td>\n      <td>4</td>\n      <td>2</td>\n      <td>9</td>\n    </tr>\n    <tr>\n      <th>115</th>\n      <td>116</td>\n      <td>RATO</td>\n      <td>0.1</td>\n      <td>0.1</td>\n      <td>0.60</td>\n      <td>0.20</td>\n      <td>1.0</td>\n      <td>γ-Ciclodextrin</td>\n      <td>0.81</td>\n      <td>0.01</td>\n      <td>...</td>\n      <td>0.0</td>\n      <td>0.0</td>\n      <td>0.0</td>\n      <td>0.20</td>\n      <td>0.00</td>\n      <td>0</td>\n      <td>2</td>\n      <td>4</td>\n      <td>2</td>\n      <td>9</td>\n    </tr>\n    <tr>\n      <th>116</th>\n      <td>117</td>\n      <td>RATO</td>\n      <td>0.1</td>\n      <td>0.1</td>\n      <td>0.77</td>\n      <td>0.03</td>\n      <td>1.0</td>\n      <td>Dextran</td>\n      <td>0.81</td>\n      <td>0.58</td>\n      <td>...</td>\n      <td>0.0</td>\n      <td>0.0</td>\n      <td>0.0</td>\n      <td>0.00</td>\n      <td>0.03</td>\n      <td>0</td>\n      <td>2</td>\n      <td>4</td>\n      <td>2</td>\n      <td>9</td>\n    </tr>\n  </tbody>\n</table>\n<p>117 rows × 30 columns</p>\n</div>"
     },
     "execution_count": 5,
     "metadata": {},
     "output_type": "execute_result"
    }
   ],
   "source": [
    "essays"
   ],
   "metadata": {
    "collapsed": false
   }
  },
  {
   "cell_type": "code",
   "execution_count": 6,
   "outputs": [
    {
     "data": {
      "text/plain": "Index(['INDEX', 'ESPÉCIE/LINHAGEM', '% DMSO', '% SFB', '% MEIO DE CULTURA',\n       '% OUTRO CRIOPROTETOR', '% SOLUÇÃO TOTAL ', 'OUTRO CRIOPROTETOR',\n       '% ANTES DO CONGELAMENTO', '% APÓS O DESCONGELAMENTO',\n       '% QUEDA DA VIABILIDADE', ' TREHALOSE', ' GLICEROL', 'SACAROSE',\n       'GLICOSE', 'MALTOSE', 'LACTOSE', 'RAFFINOSE', 'MALTOTRIOSE',\n       'MALTOTETRAOSE', 'MALTOPENTAOSE', 'MALTOEXAOSE', 'MALTOHEPTAOSE',\n       'ϒ-CYCLODEXTRIN', 'DEXTRAN ', 'Di-rhamnolipids',\n       'TIPO DE MEIO DE CULTURA', 'TEMPO DE AVALIAÇÃO DA VIABILIDADE',\n       'TESTE DE VIABILIDADE ', 'REFERÊNCIA'],\n      dtype='object')"
     },
     "execution_count": 6,
     "metadata": {},
     "output_type": "execute_result"
    }
   ],
   "source": [
    "essays.columns"
   ],
   "metadata": {
    "collapsed": false
   }
  },
  {
   "cell_type": "code",
   "execution_count": null,
   "outputs": [],
   "source": [],
   "metadata": {
    "collapsed": false
   }
  }
 ],
 "metadata": {
  "kernelspec": {
   "display_name": "Python 3",
   "language": "python",
   "name": "python3"
  },
  "language_info": {
   "codemirror_mode": {
    "name": "ipython",
    "version": 2
   },
   "file_extension": ".py",
   "mimetype": "text/x-python",
   "name": "python",
   "nbconvert_exporter": "python",
   "pygments_lexer": "ipython2",
   "version": "2.7.6"
  }
 },
 "nbformat": 4,
 "nbformat_minor": 0
}
